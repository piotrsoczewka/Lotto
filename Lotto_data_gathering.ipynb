{
 "cells": [
  {
   "cell_type": "code",
   "execution_count": 6,
   "metadata": {},
   "outputs": [],
   "source": [
    "import pymysql\n",
    "from sqlalchemy import create_engine\n",
    "import requests\n",
    "from bs4 import BeautifulSoup\n",
    "import lxml\n",
    "import datetime"
   ]
  },
  {
   "cell_type": "code",
   "execution_count": 11,
   "metadata": {},
   "outputs": [],
   "source": [
    "class Data_gathering:\n",
    "    def __init__(self):\n",
    "        #defining url-s with data sources\n",
    "        self.url_lotto = 'http://megalotto.pl/najwyzsze-wygrane/lotto'\n",
    "        self.url_polish_cities = 'https://www.polskawliczbach.pl/Miasta'\n",
    "        self.url_polish_provinces = 'https://www.polskawliczbach.pl/Wojewodztwa'      \n",
    "        user = str(input('Enter SQL user name: '))\n",
    "        password = str(input('Enter password: '))\n",
    "        database = str(input('Enter SQL database name: '))\n",
    "        self.conn = pymysql.connect(\"localhost\", user, password, database)\n",
    "        self.c = self.conn.cursor()\n",
    "        print('Connected to SQL', database, 'database')\n",
    "        \n",
    "    def scrape_and_add_lottery_data(self):\n",
    "        '''Scrapes lottery data (money prize, winner location, date) from http://megalotto.pl/najwyzsze-wygrane/lotto\n",
    "        page and adds these data into SQL database'''\n",
    "        \n",
    "        #definig lists that will serve as a base for creating the table with prize, location and dates of lottery wins\n",
    "        self.lottery_prizes_list = []\n",
    "        self.lottery_locations_list = []\n",
    "        self.lottery_dates_list = []\n",
    "\n",
    "        while True:\n",
    "            self.page = requests.get(self.url_lotto)\n",
    "            html_content = BeautifulSoup(self.page.content, 'html.parser')\n",
    "            prizes = html_content.find_all(class_ = 'numbers_in_list numbers_in_list_najwyzsze_wygrane')\n",
    "            cities = html_content.find_all(class_ = 'date_in_list date_in_list_najwyzsze_wygrane_miasto')\n",
    "            dates = html_content.find_all(class_='date_in_list date_in_list_najwyzsze_wygrane_date')\n",
    "            next_page = html_content.find_all(class_ = 'prev_next')\n",
    "\n",
    "            for index, prize in enumerate(prizes):\n",
    "                #preparing prizes as int type. replace function was used to remove spaces prior convertion into int.\n",
    "                if index > 0:\n",
    "                    self.lottery_prizes_list.append(int(str(prizes[index]).split('>')[1].split(',')[0].replace(\" \", \"\")))\n",
    "                    self.lottery_locations_list.append(str(cities[index]).split('>')[1].split(' <')[0])\n",
    "                    self.lottery_dates_list.append(str(dates[index]).split('>')[1].split(' <')[0])\n",
    "\n",
    "\n",
    "            if \"Następny\" in str(next_page[1]): #getting url of the next page with prizes\n",
    "                self.url_lotto = \"http://megalotto.pl\" + str(next_page[1]).split('href=\"')[1].split('\"')[0]\n",
    "            else:\n",
    "                break #ending the 'while True' loop when there is no next page with prizes list\n",
    "\n",
    "        self.c.execute(\"create table lottery_data (\"\n",
    "                       \"prize_id int primary key auto_increment,\"\n",
    "                       \"lottery_prize int,\"\n",
    "                       \"lottery_location varchar(255),\"\n",
    "                       \"lottery_date date)\")\n",
    "        self.conn.commit()\n",
    "        print(\"lottery_data table was added to the project_lotto database\")\n",
    "        \n",
    "        for index, prize in enumerate(self.lottery_prizes_list):\n",
    "            self.c.execute(\"insert into lottery_data values (default, %s, %s, %s)\",\n",
    "                           (prize, self.lottery_locations_list[index], self.lottery_dates_list[index]))\n",
    "        self.conn.commit()\n",
    "        print(\"lottery data were added to lottery_data table\")\n",
    "        self.conn.close()"
   ]
  },
  {
   "cell_type": "code",
   "execution_count": 12,
   "metadata": {},
   "outputs": [
    {
     "name": "stdin",
     "output_type": "stream",
     "text": [
      "Enter SQL user name:  piotrsoczewka\n",
      "Enter password:  qwerty\n",
      "Enter SQL database name:  lotto\n"
     ]
    },
    {
     "name": "stdout",
     "output_type": "stream",
     "text": [
      "Connected to SQL lotto database\n"
     ]
    }
   ],
   "source": [
    "lotto = Data_gathering()"
   ]
  },
  {
   "cell_type": "code",
   "execution_count": 13,
   "metadata": {},
   "outputs": [
    {
     "name": "stdout",
     "output_type": "stream",
     "text": [
      "lottery_data table was added to the project_lotto database\n",
      "lottery data were added to lottery_data table\n"
     ]
    }
   ],
   "source": [
    "lotto.scrape_and_add_lottery_data()"
   ]
  },
  {
   "cell_type": "code",
   "execution_count": null,
   "metadata": {},
   "outputs": [],
   "source": []
  }
 ],
 "metadata": {
  "kernelspec": {
   "display_name": "Python 3",
   "language": "python",
   "name": "python3"
  },
  "language_info": {
   "codemirror_mode": {
    "name": "ipython",
    "version": 3
   },
   "file_extension": ".py",
   "mimetype": "text/x-python",
   "name": "python",
   "nbconvert_exporter": "python",
   "pygments_lexer": "ipython3",
   "version": "3.6.4"
  }
 },
 "nbformat": 4,
 "nbformat_minor": 4
}
