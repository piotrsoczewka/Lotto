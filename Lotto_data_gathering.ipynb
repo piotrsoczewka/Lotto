{
 "cells": [
  {
   "cell_type": "code",
   "execution_count": 1,
   "metadata": {},
   "outputs": [],
   "source": [
    "import pymysql\n",
    "from sqlalchemy import create_engine\n",
    "import requests\n",
    "from bs4 import BeautifulSoup\n",
    "import lxml\n",
    "import datetime"
   ]
  },
  {
   "cell_type": "code",
   "execution_count": 2,
   "metadata": {},
   "outputs": [],
   "source": [
    "class Data_gathering:\n",
    "    def __init__(self):\n",
    "        #importing libraries, packages and functions\n",
    "        import pymysql\n",
    "        from sqlalchemy import create_engine\n",
    "        import requests\n",
    "        from bs4 import BeautifulSoup\n",
    "        import lxml\n",
    "        import datetime\n",
    "        #defining url-s with data sources\n",
    "        self.url_lotto = 'http://megalotto.pl/najwyzsze-wygrane/lotto'\n",
    "        self.url_polish_cities = 'https://www.polskawliczbach.pl/Miasta'\n",
    "        self.url_polish_provinces = 'https://www.polskawliczbach.pl/Wojewodztwa'\n",
    "        \n",
    "    def sql_connection(self):\n",
    "        self.user = str(input('Enter user name: '))\n",
    "        self.password = str(input('Enter password: '))\n",
    "        self.database = str(input('Enter database name: '))\n",
    "        self.conn = pymysql.connect(\"localhost\", self.user, self.password, self.database)\n",
    "        self.c = self.conn.cursor()\n",
    "        print('Connected to SQL', self.database, 'database')\n",
    "        \n",
    "        "
   ]
  },
  {
   "cell_type": "code",
   "execution_count": 3,
   "metadata": {},
   "outputs": [],
   "source": [
    "lotto = Data_gathering()"
   ]
  },
  {
   "cell_type": "code",
   "execution_count": 4,
   "metadata": {},
   "outputs": [
    {
     "name": "stdin",
     "output_type": "stream",
     "text": [
      "Enter user name:  Piotrek\n",
      "Enter password:  alamakota\n",
      "Enter database name:  project_lotto\n"
     ]
    },
    {
     "name": "stdout",
     "output_type": "stream",
     "text": [
      "Connected to SQL project_lotto database\n"
     ]
    }
   ],
   "source": [
    "lotto.sql_connection()"
   ]
  },
  {
   "cell_type": "code",
   "execution_count": null,
   "metadata": {},
   "outputs": [],
   "source": []
  }
 ],
 "metadata": {
  "kernelspec": {
   "display_name": "Python 3",
   "language": "python",
   "name": "python3"
  },
  "language_info": {
   "codemirror_mode": {
    "name": "ipython",
    "version": 3
   },
   "file_extension": ".py",
   "mimetype": "text/x-python",
   "name": "python",
   "nbconvert_exporter": "python",
   "pygments_lexer": "ipython3",
   "version": "3.6.4"
  }
 },
 "nbformat": 4,
 "nbformat_minor": 4
}
